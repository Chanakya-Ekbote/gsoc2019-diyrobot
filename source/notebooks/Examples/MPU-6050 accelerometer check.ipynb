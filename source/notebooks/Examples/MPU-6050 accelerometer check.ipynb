{
 "cells": [
  {
   "cell_type": "markdown",
   "metadata": {},
   "source": [
    "# MPU-6050 accelerometer check"
   ]
  },
  {
   "cell_type": "code",
   "execution_count": 1,
   "metadata": {},
   "outputs": [],
   "source": [
    "from proteas_lib import control"
   ]
  },
  {
   "cell_type": "code",
   "execution_count": 8,
   "metadata": {},
   "outputs": [],
   "source": [
    "import time"
   ]
  },
  {
   "cell_type": "code",
   "execution_count": 2,
   "metadata": {},
   "outputs": [],
   "source": [
    "control.start_lib()"
   ]
  },
  {
   "cell_type": "code",
   "execution_count": 3,
   "metadata": {},
   "outputs": [],
   "source": [
    "mpu = control.accelerometer()"
   ]
  },
  {
   "cell_type": "code",
   "execution_count": 10,
   "metadata": {},
   "outputs": [
    {
     "name": "stdout",
     "output_type": "stream",
     "text": [
      "The accelerations is: {'y': 6.514622717285156, 'z': -0.7948749511718749, 'x': 7.788338000488281}\n",
      "The gyro results is: {'y': 1.2290076335877862, 'z': -1.9770992366412214, 'x': -4.679389312977099}\n",
      "The accelerations is: {'y': 6.593631372070312, 'z': -0.8714894042968749, 'x': 7.635109094238281}\n",
      "The gyro results is: {'y': 1.0763358778625953, 'z': -1.8244274809160306, 'x': -4.709923664122138}\n",
      "The accelerations is: {'y': 6.49307490234375, 'z': -0.8738836059570312, 'x': 7.601590270996093}\n",
      "The gyro results is: {'y': 0.7251908396946565, 'z': -1.5954198473282444, 'x': -4.7251908396946565}\n",
      "The accelerations is: {'y': 7.196970190429687, 'z': -1.7621324218749999, 'x': 7.414842541503906}\n",
      "The gyro results is: {'y': -26.51145038167939, 'z': -7.320610687022901, 'x': -7.6183206106870225}\n",
      "The accelerations is: {'y': -0.93852705078125, 'z': -5.894524487304687, 'x': 8.547299926757812}\n",
      "The gyro results is: {'y': 58.58015267175573, 'z': 28.35114503816794, 'x': -41.02290076335878}\n",
      "The accelerations is: {'y': 0.0047884033203125, 'z': 9.658209497070311, 'x': 0.8188169677734375}\n",
      "The gyro results is: {'y': -16.549618320610687, 'z': -103.82442748091603, 'x': -144.61068702290078}\n",
      "The accelerations is: {'y': 3.632003918457031, 'z': 5.6766521362304685, 'x': -4.043806604003906}\n",
      "The gyro results is: {'y': 242.14503816793894, 'z': 111.87786259541984, 'x': 250.12977099236642}\n",
      "The accelerations is: {'y': -4.867411975097656, 'z': 3.699041564941406, 'x': 6.016628771972656}\n",
      "The gyro results is: {'y': 49.38931297709924, 'z': -127.73282442748092, 'x': 112.10687022900764}\n",
      "The accelerations is: {'y': 6.196193896484375, 'z': 3.5506010620117183, 'x': -7.56567724609375}\n",
      "The gyro results is: {'y': -250.13740458015266, 'z': -97.1145038167939, 'x': -250.13740458015266}\n"
     ]
    }
   ],
   "source": [
    "for i in range(1,10):\n",
    "    print(\"The accelerations is: {}\".format(mpu.get_acceleration()))\n",
    "    print(\"The gyro results is: {}\".format(mpu.get_gyro()))\n",
    "    time.sleep(0.5)\n",
    "    "
   ]
  },
  {
   "cell_type": "code",
   "execution_count": 11,
   "metadata": {},
   "outputs": [],
   "source": [
    "control.clean()"
   ]
  },
  {
   "cell_type": "code",
   "execution_count": null,
   "metadata": {},
   "outputs": [],
   "source": []
  }
 ],
 "metadata": {
  "kernelspec": {
   "display_name": "Python 3",
   "language": "python",
   "name": "python3"
  },
  "language_info": {
   "codemirror_mode": {
    "name": "ipython",
    "version": 3
   },
   "file_extension": ".py",
   "mimetype": "text/x-python",
   "name": "python",
   "nbconvert_exporter": "python",
   "pygments_lexer": "ipython3",
   "version": "3.5.3"
  }
 },
 "nbformat": 4,
 "nbformat_minor": 2
}
