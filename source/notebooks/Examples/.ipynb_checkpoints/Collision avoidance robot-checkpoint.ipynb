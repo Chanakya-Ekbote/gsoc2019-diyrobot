{
 "cells": [
  {
   "cell_type": "markdown",
   "metadata": {},
   "source": [
    "# Collision avoidance robot"
   ]
  },
  {
   "cell_type": "markdown",
   "metadata": {},
   "source": [
    "Let's build a line Collision avoidance robot. Build a 2 wheels robot using the instructions of the wiki. For this robot we need to use the Ultrasonic sensor block to track obstacles in front of the robot."
   ]
  },
  {
   "cell_type": "code",
   "execution_count": 5,
   "metadata": {},
   "outputs": [],
   "source": [
    "from proteas_lib import control\n",
    "import time\n",
    "import random\n",
    "control.start_lib()\n",
    "motor_a = control.motor(17,27,22)\n",
    "motor_b = control.motor(10,11,9)\n",
    "obstacle = control.ultrasonic_sensor()"
   ]
  },
  {
   "cell_type": "code",
   "execution_count": 6,
   "metadata": {},
   "outputs": [],
   "source": [
    "def forward():\n",
    "    motor_a.move()\n",
    "    motor_b.move()\n",
    "    \n",
    "def reverse():\n",
    "    stop()\n",
    "    motor_a.move(\"reverse\")\n",
    "    motor_b.move(\"reverse\")\n",
    "\n",
    "def right():\n",
    "    stop()\n",
    "    motor_a.move()\n",
    "    motor_b.move(\"reverse\")\n",
    "    \n",
    "def left():\n",
    "    stop()\n",
    "    motor_a.move(\"reverse\")\n",
    "    motor_b.move()    \n",
    "    \n",
    "def stop():\n",
    "    motor_a.stop()\n",
    "    motor_b.stop()\n",
    "    \n",
    "def set_speed(speed):\n",
    "    motor_a.set_speed(speed)\n",
    "    motor_b.set_speed(speed)"
   ]
  },
  {
   "cell_type": "markdown",
   "metadata": {},
   "source": [
    "### Main loop"
   ]
  },
  {
   "cell_type": "code",
   "execution_count": 23,
   "metadata": {},
   "outputs": [
    {
     "name": "stdout",
     "output_type": "stream",
     "text": [
      "Reverse\n",
      "Reverse\n",
      "Left\n",
      "Left\n",
      "Left\n",
      "Left\n",
      "Left\n",
      "Reverse\n",
      "Reverse\n",
      "Reverse\n",
      "Reverse\n",
      "Reverse\n",
      "Reverse\n",
      "Reverse\n",
      "Forward\n",
      "Forward\n",
      "Forward\n",
      "Forward\n",
      "Forward\n",
      "Forward\n",
      "Forward\n",
      "Forward\n",
      "Forward\n",
      "Forward\n",
      "Forward\n",
      "Forward\n",
      "Forward\n",
      "Forward\n",
      "Forward\n",
      "Forward\n",
      "Reverse\n",
      "Reverse\n",
      "Reverse\n",
      "Reverse\n",
      "Reverse\n",
      "Reverse\n",
      "Reverse\n",
      "Reverse\n",
      "Reverse\n",
      "Reverse\n",
      "Reverse\n",
      "Reverse\n"
     ]
    },
    {
     "ename": "KeyboardInterrupt",
     "evalue": "",
     "output_type": "error",
     "traceback": [
      "\u001b[0;31m---------------------------------------------------------------------------\u001b[0m",
      "\u001b[0;31mKeyboardInterrupt\u001b[0m                         Traceback (most recent call last)",
      "\u001b[0;32m<ipython-input-23-4b3340dd9aa0>\u001b[0m in \u001b[0;36m<module>\u001b[0;34m\u001b[0m\n\u001b[1;32m     19\u001b[0m             \u001b[0mtime\u001b[0m\u001b[0;34m.\u001b[0m\u001b[0msleep\u001b[0m\u001b[0;34m(\u001b[0m\u001b[0;36m0.05\u001b[0m\u001b[0;34m)\u001b[0m\u001b[0;34m\u001b[0m\u001b[0m\n\u001b[1;32m     20\u001b[0m             \u001b[0mdistance\u001b[0m \u001b[0;34m=\u001b[0m \u001b[0mobstacle\u001b[0m\u001b[0;34m.\u001b[0m\u001b[0mget_distance\u001b[0m\u001b[0;34m(\u001b[0m\u001b[0;34m)\u001b[0m\u001b[0;34m\u001b[0m\u001b[0m\n\u001b[0;32m---> 21\u001b[0;31m     \u001b[0mtime\u001b[0m\u001b[0;34m.\u001b[0m\u001b[0msleep\u001b[0m\u001b[0;34m(\u001b[0m\u001b[0;36m0.05\u001b[0m\u001b[0;34m)\u001b[0m\u001b[0;34m\u001b[0m\u001b[0m\n\u001b[0m",
      "\u001b[0;31mKeyboardInterrupt\u001b[0m: "
     ]
    }
   ],
   "source": [
    "set_speed(50)\n",
    "while True:\n",
    "    distance = obstacle.get_distance()\n",
    "    if distance > 55 and distance < 2000:\n",
    "        forward()\n",
    "        print(\"Forward\")\n",
    "    elif distance <= 20 or distance > 2000 :\n",
    "        print(\"Reverse\")\n",
    "        reverse()\n",
    "    else:\n",
    "        direction = random.randrange(1)\n",
    "        while distance <= 55:\n",
    "            if direction == 1:\n",
    "                print(\"Right\")\n",
    "                right()\n",
    "            else:\n",
    "                print(\"Left\")\n",
    "                left()\n",
    "            time.sleep(0.05)\n",
    "            distance = obstacle.get_distance()\n",
    "    time.sleep(0.05)"
   ]
  },
  {
   "cell_type": "code",
   "execution_count": 24,
   "metadata": {},
   "outputs": [],
   "source": [
    "stop() #Emergency stop if the code above crash!!!"
   ]
  },
  {
   "cell_type": "code",
   "execution_count": 25,
   "metadata": {},
   "outputs": [],
   "source": [
    "control.clean()"
   ]
  },
  {
   "cell_type": "code",
   "execution_count": null,
   "metadata": {},
   "outputs": [],
   "source": []
  }
 ],
 "metadata": {
  "kernelspec": {
   "display_name": "Python 3",
   "language": "python",
   "name": "python3"
  },
  "language_info": {
   "codemirror_mode": {
    "name": "ipython",
    "version": 3
   },
   "file_extension": ".py",
   "mimetype": "text/x-python",
   "name": "python",
   "nbconvert_exporter": "python",
   "pygments_lexer": "ipython3",
   "version": "3.5.3"
  }
 },
 "nbformat": 4,
 "nbformat_minor": 2
}
