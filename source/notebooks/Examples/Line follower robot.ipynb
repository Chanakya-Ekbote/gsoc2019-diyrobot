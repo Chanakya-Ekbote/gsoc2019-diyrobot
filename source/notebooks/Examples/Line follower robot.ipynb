{
 "cells": [
  {
   "cell_type": "markdown",
   "metadata": {},
   "source": [
    "# Line follower robot"
   ]
  },
  {
   "cell_type": "markdown",
   "metadata": {},
   "source": [
    "Let's build a line follower robot. First using Black Electrical Tape to draw a route in the floor. Build a 2 wheels robot using the instructions of the wiki. For this robot we need to use IR Obstacle sensor blocks to track the line and we will arrange them to look the floor."
   ]
  },
  {
   "cell_type": "code",
   "execution_count": 2,
   "metadata": {},
   "outputs": [],
   "source": [
    "from proteas_lib import control\n",
    "import time\n",
    "control.start_lib()\n",
    "motor_a = control.motor(17,27,22)\n",
    "motor_b = control.motor(10,11,9)\n",
    "sensor_a = control.gen_input(19)\n",
    "sensor_b = control.gen_input(26)"
   ]
  },
  {
   "cell_type": "markdown",
   "metadata": {},
   "source": [
    "Lets try something more advance in the code using functions. Using the functions we can group commands and after we cam call that group using a name. Let's make some functions."
   ]
  },
  {
   "cell_type": "code",
   "execution_count": 12,
   "metadata": {},
   "outputs": [],
   "source": [
    "def forward():\n",
    "    motor_a.move()\n",
    "    motor_b.move()\n",
    "    \n",
    "def reverse():\n",
    "    stop()\n",
    "    motor_a.move(\"reverse\")\n",
    "    motor_b.move(\"reverse\")\n",
    "\n",
    "def right():\n",
    "    stop()\n",
    "    motor_a.move()\n",
    "    motor_b.move(\"reverse\")\n",
    "    \n",
    "def left():\n",
    "    stop()\n",
    "    motor_a.move(\"reverse\")\n",
    "    motor_b.move()    \n",
    "    \n",
    "def stop():\n",
    "    motor_a.stop()\n",
    "    motor_b.stop()\n",
    "    \n",
    "def set_speed(speed):\n",
    "    motor_a.set_speed(speed)\n",
    "    motor_b.set_speed(speed)\n",
    "    "
   ]
  },
  {
   "cell_type": "markdown",
   "metadata": {},
   "source": [
    "## The main loop"
   ]
  },
  {
   "cell_type": "code",
   "execution_count": 15,
   "metadata": {},
   "outputs": [],
   "source": [
    "set_speed(60) #If the robot miss the line try to reduce the speed.\n",
    "while True:\n",
    "    if not sensor_a.get_state() and  sensor_b.get_state():\n",
    "        stop()\n",
    "        right()\n",
    "    elif sensor_a.get_state() and not sensor_b.get_state():\n",
    "        stop()\n",
    "        left()\n",
    "    elif  sensor_a.get_state() and  sensor_b.get_state():\n",
    "        print('Finish line !!')\n",
    "        stop()\n",
    "        break\n",
    "    else:\n",
    "        forward()    "
   ]
  },
  {
   "cell_type": "code",
   "execution_count": 14,
   "metadata": {},
   "outputs": [],
   "source": [
    " stop() #Emergency stop if the code above crash!!!"
   ]
  },
  {
   "cell_type": "code",
   "execution_count": 16,
   "metadata": {},
   "outputs": [],
   "source": [
    "control.clean()"
   ]
  },
  {
   "cell_type": "code",
   "execution_count": null,
   "metadata": {},
   "outputs": [],
   "source": []
  }
 ],
 "metadata": {
  "kernelspec": {
   "display_name": "Python 3",
   "language": "python",
   "name": "python3"
  },
  "language_info": {
   "codemirror_mode": {
    "name": "ipython",
    "version": 3
   },
   "file_extension": ".py",
   "mimetype": "text/x-python",
   "name": "python",
   "nbconvert_exporter": "python",
   "pygments_lexer": "ipython3",
   "version": "3.5.3"
  }
 },
 "nbformat": 4,
 "nbformat_minor": 2
}
