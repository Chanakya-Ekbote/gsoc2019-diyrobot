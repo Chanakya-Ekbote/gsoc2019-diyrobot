{
 "cells": [
  {
   "cell_type": "markdown",
   "metadata": {},
   "source": [
    "# Force and levers"
   ]
  },
  {
   "cell_type": "markdown",
   "metadata": {},
   "source": [
    "## 1.0 Theory\n",
    "---"
   ]
  },
  {
   "cell_type": "markdown",
   "metadata": {},
   "source": [
    "A lever is a simple machine consisting of a beam or rigid rod pivoted at a fixed hinge, or fulcrum. A lever is a rigid body capable of rotating on a point on itself. On the basis of the location of fulcrum, load and effort, the lever is divided into three types. It is one of the six simple machines identified by Renaissance scientists. A lever amplifies an input force to provide a greater output force, which is said to provide leverage. The ratio of the output force to the input force is the mechanical advantage of the lever.\n",
    "![lever example](./images/220px-Palanca-ejemplo.jpg)"
   ]
  },
  {
   "cell_type": "markdown",
   "metadata": {},
   "source": [
    "### Force and levers\n",
    "\n",
    "A lever in balance\n",
    "A lever is a beam connected to ground by a hinge, or pivot, called a fulcrum. The ideal lever does not dissipate or store energy, which means there is no friction in the hinge or bending in the beam. In this case, the power into the lever equals the power out, and the ratio of output to input force is given by the ratio of the distances from the fulcrum to the points of application of these forces. This is known as the law of the lever.[citation needed]\n",
    "\n",
    "The mechanical advantage of a lever can be determined by considering the balance of moments or torque, T, about the fulcrum.\n",
    "![F1](./images/f1.svg) ![F2](./images/f2.svg)\n",
    "where F1 is the input force to the lever and F2 is the output force. The distances a and b are the perpendicular distances between the forces and the fulcrum.\n",
    "\n",
    "Since the moments of torque must be balanced, ![ma](./images/ma.svg) . So, ![t1=t2](./images/t1t2.svg)![f1=f2](./images/f1f2.svg)\n",
    "\n",
    "This relationship shows that the mechanical advantage can be computed from ratio of the distances from the fulcrum to where the input and output forces are applied to the lever, assuming no losses due to friction, flexibility or wear. This remains true even though the horizontal distance (perpendicular to the pull of gravity) of both a and b change (diminish) as the lever changes to any position away from the horizontal.\n",
    "![lever](./images/220px-Lever_Principle_3D.png)\n"
   ]
  },
  {
   "cell_type": "markdown",
   "metadata": {},
   "source": [
    "## 2.0 Experiment\n",
    "---"
   ]
  },
  {
   "cell_type": "markdown",
   "metadata": {},
   "source": [
    "Now its time for a small experiment. Attacht the robotic arm to the Proteas robot. If the gripper is attached please remove it. Now set lower join of the arm to 180 degrees angle and the second join of the arm to 90 degrees angle. The arm should be now parallel to the floor. On the end of the robotic arm hang a small weight using a paper clip as hook and set the lower join to 90 degrees. Repeat that procedure until the arm can not lift the weight. It looks likes impossible but the robotic arm still can lift the weight and maybe much more by using a little trick. First make the upper join to lift the weight and the then make the lower join. Why is this happening?"
   ]
  },
  {
   "cell_type": "code",
   "execution_count": 3,
   "metadata": {},
   "outputs": [],
   "source": [
    "from proteas_lib import control\n",
    "import time\n",
    "control.start_lib()\n",
    "l_join = control.servo(pin=23)\n",
    "u_join = control.servo(pin=24)\n",
    "l_join.set_angle(90)\n",
    "u_join.set_angle(180)"
   ]
  },
  {
   "cell_type": "markdown",
   "metadata": {},
   "source": [
    "Repeat the code bellow until the arm can lift the weight"
   ]
  },
  {
   "cell_type": "code",
   "execution_count": 5,
   "metadata": {},
   "outputs": [],
   "source": [
    "u_join.set_angle(90)\n",
    "time.sleep(5)\n",
    "u_join.set_angle(180)"
   ]
  },
  {
   "cell_type": "markdown",
   "metadata": {},
   "source": [
    "Now the code for the trick"
   ]
  },
  {
   "cell_type": "code",
   "execution_count": 6,
   "metadata": {},
   "outputs": [],
   "source": [
    "u_join.set_angle(0)\n",
    "time.sleep(1)\n",
    "u_join.set_angle(90)\n",
    "time.sleep(5)\n",
    "u_join.set_angle(180)\n",
    "time.sleep(1)\n",
    "u_join.set_angle(90)"
   ]
  },
  {
   "cell_type": "code",
   "execution_count": 7,
   "metadata": {},
   "outputs": [],
   "source": [
    "control.clean()"
   ]
  },
  {
   "cell_type": "markdown",
   "metadata": {},
   "source": [
    "This is not a correct way to test your robot. In robotics on the designing stage you need to what is the maxinum weight need to lift the robot together with other parameter (eg. where that robot will be used) and using that parameters the engineer desigh the arm. \n",
    "\n",
    "Can you calculate, how much is the maximum weight can lift the robot by using the equations from the theory?\n",
    "\n",
    "* Servo motor weight: 38g\n",
    "* Servo max torque 5.5kg/cm\n",
    "* Motor case weight: 25g\n",
    "* Arm extension weight: 18g \n",
    "* Arm lenght center to center : 8.8 cm\n"
   ]
  }
 ],
 "metadata": {
  "kernelspec": {
   "display_name": "Python 3",
   "language": "python",
   "name": "python3"
  },
  "language_info": {
   "codemirror_mode": {
    "name": "ipython",
    "version": 3
   },
   "file_extension": ".py",
   "mimetype": "text/x-python",
   "name": "python",
   "nbconvert_exporter": "python",
   "pygments_lexer": "ipython3",
   "version": "3.5.3"
  }
 },
 "nbformat": 4,
 "nbformat_minor": 2
}
