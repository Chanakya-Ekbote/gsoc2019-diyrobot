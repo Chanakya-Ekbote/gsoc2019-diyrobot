{
 "cells": [
  {
   "cell_type": "markdown",
   "metadata": {},
   "source": [
    "# Basic robot movement"
   ]
  },
  {
   "cell_type": "markdown",
   "metadata": {},
   "source": [
    "A two wheel robot is the simplest robot you can build and offers easy control. The movement of the robot based on diferential speed between the two wheeels. When both of the wheel moving in the same direction with the same speed the robot move in straight line to that direction. If you want to rotate the robot just change the direction of the  opposite wheel of the direction you want to turn the robot. "
   ]
  },
  {
   "cell_type": "markdown",
   "metadata": {},
   "source": [
    "### Let's build that robot with visual controls"
   ]
  },
  {
   "cell_type": "markdown",
   "metadata": {},
   "source": [
    "![two wheel](./images/2_wheel_metal.png)"
   ]
  },
  {
   "cell_type": "markdown",
   "metadata": {},
   "source": [
    "Build a two wheel robot with metal ball caster using the instructions and let's make it to move."
   ]
  },
  {
   "cell_type": "markdown",
   "metadata": {},
   "source": [
    "First we need to import the proteas_lib and tell to Proteas where the motors are connected."
   ]
  },
  {
   "cell_type": "code",
   "execution_count": 1,
   "metadata": {},
   "outputs": [],
   "source": [
    "import ipywidgets as widgets #With that import the user can create visual controls \n",
    "from proteas_lib import control\n",
    "import time\n",
    "control.start_lib()\n",
    "motor_a = control.motor(17,27,22)\n",
    "motor_b = control.motor(10,11,9)"
   ]
  },
  {
   "cell_type": "markdown",
   "metadata": {},
   "source": [
    "Using two sliders we can control the motors speed."
   ]
  },
  {
   "cell_type": "code",
   "execution_count": 2,
   "metadata": {},
   "outputs": [
    {
     "data": {
      "application/vnd.jupyter.widget-view+json": {
       "model_id": "f50d15d82d1c47158b398cb882567e64",
       "version_major": 2,
       "version_minor": 0
      },
      "text/plain": [
       "IntSlider(value=50, description='Speed A:')"
      ]
     },
     "metadata": {},
     "output_type": "display_data"
    },
    {
     "data": {
      "application/vnd.jupyter.widget-view+json": {
       "model_id": "10080ed35be7430eb3309eaa4618fbb2",
       "version_major": 2,
       "version_minor": 0
      },
      "text/plain": [
       "IntSlider(value=50, description='Speed B:')"
      ]
     },
     "metadata": {},
     "output_type": "display_data"
    }
   ],
   "source": [
    "m1 = widgets.IntSlider(value=50,min=0,max=100,step=1,description='Speed A:')\n",
    "m2 = widgets.IntSlider(value=50,min=0,max=100,step=1,description='Speed B:')\n",
    "display(m1,m2)"
   ]
  },
  {
   "cell_type": "markdown",
   "metadata": {},
   "source": [
    "Its time to add and some contols for the directions of the motors."
   ]
  },
  {
   "cell_type": "code",
   "execution_count": 3,
   "metadata": {},
   "outputs": [
    {
     "data": {
      "application/vnd.jupyter.widget-view+json": {
       "model_id": "2ea8e9ab95334d8195af1799f6efa068",
       "version_major": 2,
       "version_minor": 0
      },
      "text/plain": [
       "RadioButtons(description='Direction A:', options=('forward', 'reverse'), value='forward')"
      ]
     },
     "metadata": {},
     "output_type": "display_data"
    },
    {
     "data": {
      "application/vnd.jupyter.widget-view+json": {
       "model_id": "48cb86a09f654880a51b68fde61f674c",
       "version_major": 2,
       "version_minor": 0
      },
      "text/plain": [
       "RadioButtons(description='Direction B:', options=('forward', 'reverse'), value='forward')"
      ]
     },
     "metadata": {},
     "output_type": "display_data"
    }
   ],
   "source": [
    "m1d = widgets.RadioButtons(options=['forward', 'reverse'],value='forward',description='Direction A:')\n",
    "m2d = widgets.RadioButtons(options=['forward', 'reverse'],value='forward',description='Direction B:')\n",
    "display(m1d,m2d)"
   ]
  },
  {
   "cell_type": "markdown",
   "metadata": {},
   "source": [
    "Finally we need one more slider to control the total time of the movement."
   ]
  },
  {
   "cell_type": "code",
   "execution_count": 4,
   "metadata": {},
   "outputs": [
    {
     "data": {
      "application/vnd.jupyter.widget-view+json": {
       "model_id": "2fd536c7af444e169010c91849791fe8",
       "version_major": 2,
       "version_minor": 0
      },
      "text/plain": [
       "IntSlider(value=1, description='Total time:', max=60)"
      ]
     },
     "metadata": {},
     "output_type": "display_data"
    }
   ],
   "source": [
    "total_t  = widgets.IntSlider(value=1,min=0,max=60,step=1,description='Total time:')\n",
    "display(total_t)"
   ]
  },
  {
   "cell_type": "markdown",
   "metadata": {},
   "source": [
    "Now its time to write the mainloop for the robot. Using the controls from before you can test the movement of the robot."
   ]
  },
  {
   "cell_type": "code",
   "execution_count": 18,
   "metadata": {},
   "outputs": [
    {
     "name": "stdout",
     "output_type": "stream",
     "text": [
      "Robot activated\n",
      "The robot will be move for 2 seconds\n",
      "Robot deactivated\n"
     ]
    }
   ],
   "source": [
    "print(\"Robot activated\")\n",
    "motor_a.set_speed(m1.value)\n",
    "motor_b.set_speed(m2.value)\n",
    "print(\"The robot will be move for {} seconds\".format(total_t.value))\n",
    "for i in range(1,total_t.value):\n",
    "    motor_a.move(m1d.value)\n",
    "    motor_b.move(m2d.value)\n",
    "    time.sleep(1)\n",
    "motor_a.stop()\n",
    "motor_b.stop()\n",
    "print(\"Robot deactivated\")"
   ]
  },
  {
   "cell_type": "markdown",
   "metadata": {},
   "source": [
    "For extra safety if the previous code failed or stoped by the user and the motors keep moving just run the following commands."
   ]
  },
  {
   "cell_type": "code",
   "execution_count": 14,
   "metadata": {},
   "outputs": [],
   "source": [
    "motor_a.stop()\n",
    "motor_b.stop()"
   ]
  },
  {
   "cell_type": "code",
   "execution_count": 19,
   "metadata": {},
   "outputs": [],
   "source": [
    "control.clean()"
   ]
  },
  {
   "cell_type": "code",
   "execution_count": null,
   "metadata": {},
   "outputs": [],
   "source": []
  }
 ],
 "metadata": {
  "kernelspec": {
   "display_name": "Python 3",
   "language": "python",
   "name": "python3"
  },
  "language_info": {
   "codemirror_mode": {
    "name": "ipython",
    "version": 3
   },
   "file_extension": ".py",
   "mimetype": "text/x-python",
   "name": "python",
   "nbconvert_exporter": "python",
   "pygments_lexer": "ipython3",
   "version": "3.5.3"
  }
 },
 "nbformat": 4,
 "nbformat_minor": 2
}
