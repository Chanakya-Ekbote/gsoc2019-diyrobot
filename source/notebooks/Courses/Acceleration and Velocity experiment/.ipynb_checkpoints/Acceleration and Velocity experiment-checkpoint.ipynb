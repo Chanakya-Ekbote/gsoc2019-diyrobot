{
 "cells": [
  {
   "cell_type": "markdown",
   "metadata": {},
   "source": [
    "# Acceleration and Velocity experiment "
   ]
  },
  {
   "cell_type": "markdown",
   "metadata": {},
   "source": [
    "## 1.0 Theory\n",
    "---"
   ]
  },
  {
   "cell_type": "markdown",
   "metadata": {},
   "source": [
    "## 1.1 Velocity"
   ]
  },
  {
   "cell_type": "markdown",
   "metadata": {},
   "source": [
    "The velocity of an object is the rate of change of its position with respect to a frame of reference, and is a function of time. Velocity is equivalent to a specification of an object's speed and direction of motion (e.g. 60 km/h to the north). Velocity is a fundamental concept in kinematics, the branch of classical mechanics that describes the motion of bodies.\n",
    "\n",
    "Velocity is a physical vector quantity; both magnitude and direction are needed to define it. The scalar absolute value (magnitude) of velocity is called speed, being a coherent derived unit whose quantity is measured in the SI (metric system) as metres per second (m/s) or as the SI base unit of (m⋅s−1). For example, \"5 metres per second\" is a scalar, whereas \"5 metres per second east\" is a vector. If there is a change in speed, direction or both, then the object has a changing velocity and is said to be undergoing an acceleration.\n",
    "![nascar](./images/nascar.jpg)"
   ]
  },
  {
   "cell_type": "markdown",
   "metadata": {},
   "source": [
    "### Average velocity\n",
    "Velocity is defined as the rate of change of position with respect to time, which may also be referred to as the instantaneous velocity to emphasize the distinction from the average velocity. In some applications the \"average velocity\" of an object might be needed, that is to say, the constant velocity that would provide the same resultant displacement as a variable velocity in the same time interval, v(t), over some time period Δt. Average velocity can be calculated as:\n",
    "\n",
    "![velocity formula](./images/vel.svg)"
   ]
  },
  {
   "cell_type": "markdown",
   "metadata": {},
   "source": [
    "## 1.2 Acceleration"
   ]
  },
  {
   "cell_type": "markdown",
   "metadata": {},
   "source": [
    "In physics, acceleration is the rate of change of velocity of an object with respect to time. An object's acceleration is the net result of all forces acting on the object, as described by Newton's Second Law. The SI unit for acceleration is metre per second squared (m⋅s−2). For example, when a car starts from a standstill (zero velocity, in an inertial frame of reference) and travels in a straight line at increasing speeds, it is accelerating in the direction of travel. If the car turns, an acceleration occurs toward the new direction. The forward acceleration of the car is called a linear (or tangential) acceleration, the reaction to which passengers in the car experience as a force pushing them back into their seats. When changing direction, this is called radial (as orthogonal to tangential) acceleration, the reaction to which passengers experience as a sideways force. If the speed of the car decreases, this is an acceleration in the opposite direction of the velocity of the vehicle, sometimes called deceleration or Retrograde burning in spacecraft.Passengers experience the reaction to deceleration as a force pushing them forwards. Both acceleration and deceleration are treated the same, they are both changes in velocity. Each of these accelerations (tangential, radial, deceleration) is felt by passengers until their velocity (speed and direction) matches that of the uniformly moving car."
   ]
  },
  {
   "cell_type": "markdown",
   "metadata": {},
   "source": [
    "![tennis ball](./images/220px-Gravity_gravita_grave.gif)"
   ]
  },
  {
   "cell_type": "markdown",
   "metadata": {},
   "source": [
    "### Average acceleration\n",
    "\n",
    "Acceleration is the rate of change of velocity. At any point on a trajectory, the magnitude of the acceleration is given by the rate of change of velocity in both magnitude and direction at that point. An object's average acceleration over a period of time is its change in velocity Δv divided by the duration of the period Δt. Mathematically:"
   ]
  },
  {
   "cell_type": "markdown",
   "metadata": {},
   "source": [
    "![acceleration formula](./images/avaccel.svg)"
   ]
  },
  {
   "cell_type": "markdown",
   "metadata": {},
   "source": [
    "Used Wikipedia for the theory and the images:\n",
    "\n",
    "[Velocity Theory](https://en.wikipedia.org/wiki/Velocity)\n",
    "\n",
    "[Acceleration Theory](https://en.wikipedia.org/wiki/Acceleration)"
   ]
  },
  {
   "cell_type": "markdown",
   "metadata": {},
   "source": [
    "## 2.0 Experiment\n",
    "---"
   ]
  },
  {
   "cell_type": "markdown",
   "metadata": {},
   "source": [
    "Now it's time to use the Proteas robot to help us on the experiment. We want to make Proteas to move forward a short distance of 10cm and take mesurments using the odometer. After the mesurments we want Proteas to draw two graphs, one with the average velocity and one with the average accelation."
   ]
  },
  {
   "cell_type": "code",
   "execution_count": 1,
   "metadata": {},
   "outputs": [],
   "source": [
    "from proteas_lib import control\n",
    "control.start_lib()\n",
    "velocity_logs = control.data_logger()\n",
    "acceleration_logs = control.data_logger()\n",
    "timer1 = control.timer() \n",
    "motor_a = control.motor(17,27,22)\n",
    "motor_b = control.motor(10,11,9)\n",
    "odometer_a = control.odometer(6)"
   ]
  },
  {
   "cell_type": "code",
   "execution_count": 2,
   "metadata": {},
   "outputs": [
    {
     "name": "stdout",
     "output_type": "stream",
     "text": [
      "Experiment start!\n",
      "1.04\n",
      "2.07\n",
      "3.11\n",
      "4.15\n",
      "5.18\n",
      "6.22\n",
      "7.26\n",
      "8.29\n",
      "9.33\n",
      "Experiment completed!\n"
     ]
    }
   ],
   "source": [
    "print(\"Experiment start!\")\n",
    "velocity_logs.clean_data()\n",
    "acceleration_logs.clean_data()\n",
    "timer1.start_timer()\n",
    "odometer_a.reset()\n",
    "motor_a.move()\n",
    "motor_b.move()\n",
    "previous_distance = 0\n",
    "previous_v = 0\n",
    "previous_t = 0\n",
    "velocity_logs.store_value(0,0)\n",
    "acceleration_logs.store_value(0,0)\n",
    "while odometer_a.get_distance() < 10:\n",
    "    current_distance = odometer_a.get_distance()\n",
    "    current_t = timer1.get_elapsed()\n",
    "    # We will store the data on every distance displacement beacasuse the sensor\n",
    "    #on odometer is very slow for contnues readings\n",
    "    if previous_distance != current_distance:\n",
    "        dt = current_t - previous_t\n",
    "        dx = (current_distance - previous_distance)*0.01 # Convert the cm to m\n",
    "        v = dx/dt\n",
    "        dv = v - previous_v\n",
    "        a = dv/dt\n",
    "        velocity_logs.store_value(current_t,v)\n",
    "        acceleration_logs.store_value(current_t,a)\n",
    "        previous_v = v\n",
    "        previous_distance = current_distance   \n",
    "        previous_t = current_t\n",
    "        print(odometer_a.get_distance())    \n",
    "motor_a.stop()\n",
    "motor_b.stop()\n",
    "print(\"Experiment completed!\")\n"
   ]
  },
  {
   "cell_type": "markdown",
   "metadata": {},
   "source": [
    "### Average velocity"
   ]
  },
  {
   "cell_type": "code",
   "execution_count": 3,
   "metadata": {},
   "outputs": [
    {
     "data": {
      "image/png": "[encoded data removed]",
      "text/plain": [
       "<Figure size 432x288 with 1 Axes>"
      ]
     },
     "metadata": {
      "needs_background": "light"
     },
     "output_type": "display_data"
    }
   ],
   "source": [
    "velocity_logs.draw_graph(type = \"line\")"
   ]
  },
  {
   "cell_type": "markdown",
   "metadata": {},
   "source": [
    "### Average acceleration"
   ]
  },
  {
   "cell_type": "code",
   "execution_count": 4,
   "metadata": {},
   "outputs": [
    {
     "data": {
      "image/png": "[encoded data removed]",
      "text/plain": [
       "<Figure size 432x288 with 1 Axes>"
      ]
     },
     "metadata": {
      "needs_background": "light"
     },
     "output_type": "display_data"
    }
   ],
   "source": [
    "acceleration_logs.draw_graph(type = \"line\")"
   ]
  },
  {
   "cell_type": "code",
   "execution_count": null,
   "metadata": {},
   "outputs": [],
   "source": [
    "control.clean()"
   ]
  }
 ],
 "metadata": {
  "kernelspec": {
   "display_name": "Python 3",
   "language": "python",
   "name": "python3"
  },
  "language_info": {
   "codemirror_mode": {
    "name": "ipython",
    "version": 3
   },
   "file_extension": ".py",
   "mimetype": "text/x-python",
   "name": "python",
   "nbconvert_exporter": "python",
   "pygments_lexer": "ipython3",
   "version": "3.5.3"
  }
 },
 "nbformat": 4,
 "nbformat_minor": 2
}
