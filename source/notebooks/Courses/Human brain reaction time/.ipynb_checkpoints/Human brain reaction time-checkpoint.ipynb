{
 "cells": [
  {
   "cell_type": "markdown",
   "metadata": {},
   "source": [
    "# Human brain reaction time"
   ]
  },
  {
   "cell_type": "markdown",
   "metadata": {},
   "source": [
    "The speed of your reactions play a large part in your everyday life. Fast reaction times can produce big rewards, for example, like saving a blistering soccer ball from entering the goal. Slow reaction times may come with consequences. Reaction time is a measure of the quickness an organism responds to some sort of stimulus. You also have \"reflexes\" too. Reflexes and reactions, while seeming similar, are quite different. Reflexes are involuntary, used to protect the body, and are faster than a reaction. Reflexes are usually a negative feedback loop and act to help return the body to its normal functioning stability, or homeostasis. The classic example of a reflex is one you have seen at your doctor's office: the patellar reflex.\n",
    "\n",
    "![reaction image](./images/reaction1.png)"
   ]
  },
  {
   "cell_type": "markdown",
   "metadata": {},
   "source": [
    "## Experiment"
   ]
  },
  {
   "cell_type": "markdown",
   "metadata": {},
   "source": [
    "Let's make a simple experiment using the Proteas. We need to connect on mini breadboard block, a led and a button. The goal is to press the button when the led lights up in a random moment between 3 and 10 seconds, then the Proteas can tell you, your reaction time."
   ]
  },
  {
   "cell_type": "code",
   "execution_count": 2,
   "metadata": {},
   "outputs": [],
   "source": [
    "from proteas_lib import control\n",
    "import random #Library for random numbers\n",
    "control.start_lib()\n",
    "timer1 = control.timer()\n",
    "btn = control.button() # Default pin 18\n",
    "led = control.gen_output() #Default pin 5\n"
   ]
  },
  {
   "cell_type": "code",
   "execution_count": 3,
   "metadata": {},
   "outputs": [
    {
     "name": "stdout",
     "output_type": "stream",
     "text": [
      "Your reaction time is 0.2602088451385498\n"
     ]
    }
   ],
   "source": [
    "led.set_off()\n",
    "led_state =False\n",
    "timer1.start_timer()\n",
    "led_time = random.randint(3, 10)\n",
    "reaction_time = 0 \n",
    "while timer1.get_elapsed() < 10:\n",
    "    if timer1.get_elapsed() > led_time : \n",
    "        if led_state== False:\n",
    "            led.set_on()\n",
    "            reaction_time = timer1.get_elapsed()\n",
    "            led_state=True\n",
    "        else:\n",
    "            if btn.get_state() == 0 :\n",
    "                reaction_time = timer1.get_elapsed() - reaction_time\n",
    "                break\n",
    "print(\"Your reaction time is {}\".format(reaction_time))\n"
   ]
  },
  {
   "cell_type": "code",
   "execution_count": 4,
   "metadata": {},
   "outputs": [],
   "source": [
    "control.clean()"
   ]
  },
  {
   "cell_type": "code",
   "execution_count": null,
   "metadata": {},
   "outputs": [],
   "source": []
  }
 ],
 "metadata": {
  "kernelspec": {
   "display_name": "Python 3",
   "language": "python",
   "name": "python3"
  },
  "language_info": {
   "codemirror_mode": {
    "name": "ipython",
    "version": 3
   },
   "file_extension": ".py",
   "mimetype": "text/x-python",
   "name": "python",
   "nbconvert_exporter": "python",
   "pygments_lexer": "ipython3",
   "version": "3.5.3"
  }
 },
 "nbformat": 4,
 "nbformat_minor": 2
}
